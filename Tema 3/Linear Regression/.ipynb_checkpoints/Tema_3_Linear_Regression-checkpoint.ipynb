{
 "cells": [
  {
   "cell_type": "code",
   "execution_count": 5,
   "metadata": {
    "colab": {
     "base_uri": "https://localhost:8080/",
     "height": 34
    },
    "colab_type": "code",
    "id": "UvFl_fnxTUE0",
    "outputId": "5a067dc0-d73f-47e7-c1a6-02512babd02f"
   },
   "outputs": [
    {
     "name": "stdout",
     "output_type": "stream",
     "text": [
      "Populating the interactive namespace from numpy and matplotlib\n"
     ]
    }
   ],
   "source": [
    "import pandas as pd\n",
    "import numpy as np\n",
    "import matplotlib.pyplot as plt\n",
    "\n",
    "from sklearn.preprocessing import scale\n",
    "import sklearn.linear_model as skl_lm\n",
    "from sklearn.metrics import mean_squared_error, r2_score\n",
    "from sklearn.model_selection import train_test_split \n",
    "from sklearn.linear_model import LinearRegression\n",
    "from sklearn import metrics\n",
    "import statsmodels.api as sm\n",
    "import statsmodels.formula.api as smf\n",
    "import scipy.stats as spst\n",
    "\n",
    "import seaborn as sns\n",
    "%matplotlib inline\n",
    "plt.style.use('seaborn-white')\n",
    "\n",
    "%pylab inline\n",
    "pylab.rcParams['figure.figsize'] = (16, 8)"
   ]
  },
  {
   "cell_type": "code",
   "execution_count": 76,
   "metadata": {
    "colab": {
     "base_uri": "https://localhost:8080/",
     "height": 343
    },
    "colab_type": "code",
    "id": "V9csLFt5TUE9",
    "outputId": "5c808196-2665-4566-ea0d-1427c3cd393f"
   },
   "outputs": [
    {
     "data": {
      "text/html": [
       "<div>\n",
       "<style scoped>\n",
       "    .dataframe tbody tr th:only-of-type {\n",
       "        vertical-align: middle;\n",
       "    }\n",
       "\n",
       "    .dataframe tbody tr th {\n",
       "        vertical-align: top;\n",
       "    }\n",
       "\n",
       "    .dataframe thead th {\n",
       "        text-align: right;\n",
       "    }\n",
       "</style>\n",
       "<table border=\"1\" class=\"dataframe\">\n",
       "  <thead>\n",
       "    <tr style=\"text-align: right;\">\n",
       "      <th></th>\n",
       "      <th>Income</th>\n",
       "      <th>Limit</th>\n",
       "      <th>Rating</th>\n",
       "      <th>Cards</th>\n",
       "      <th>Age</th>\n",
       "      <th>Education</th>\n",
       "      <th>Gender</th>\n",
       "      <th>Student</th>\n",
       "      <th>Married</th>\n",
       "      <th>Ethnicity</th>\n",
       "      <th>Balance</th>\n",
       "    </tr>\n",
       "  </thead>\n",
       "  <tbody>\n",
       "    <tr>\n",
       "      <th>0</th>\n",
       "      <td>14.891</td>\n",
       "      <td>3606</td>\n",
       "      <td>283</td>\n",
       "      <td>2</td>\n",
       "      <td>34</td>\n",
       "      <td>11</td>\n",
       "      <td>Male</td>\n",
       "      <td>No</td>\n",
       "      <td>Yes</td>\n",
       "      <td>Caucasian</td>\n",
       "      <td>333</td>\n",
       "    </tr>\n",
       "    <tr>\n",
       "      <th>1</th>\n",
       "      <td>106.025</td>\n",
       "      <td>6645</td>\n",
       "      <td>483</td>\n",
       "      <td>3</td>\n",
       "      <td>82</td>\n",
       "      <td>15</td>\n",
       "      <td>Female</td>\n",
       "      <td>Yes</td>\n",
       "      <td>Yes</td>\n",
       "      <td>Asian</td>\n",
       "      <td>903</td>\n",
       "    </tr>\n",
       "    <tr>\n",
       "      <th>2</th>\n",
       "      <td>104.593</td>\n",
       "      <td>7075</td>\n",
       "      <td>514</td>\n",
       "      <td>4</td>\n",
       "      <td>71</td>\n",
       "      <td>11</td>\n",
       "      <td>Male</td>\n",
       "      <td>No</td>\n",
       "      <td>No</td>\n",
       "      <td>Asian</td>\n",
       "      <td>580</td>\n",
       "    </tr>\n",
       "    <tr>\n",
       "      <th>3</th>\n",
       "      <td>148.924</td>\n",
       "      <td>9504</td>\n",
       "      <td>681</td>\n",
       "      <td>3</td>\n",
       "      <td>36</td>\n",
       "      <td>11</td>\n",
       "      <td>Female</td>\n",
       "      <td>No</td>\n",
       "      <td>No</td>\n",
       "      <td>Asian</td>\n",
       "      <td>964</td>\n",
       "    </tr>\n",
       "    <tr>\n",
       "      <th>4</th>\n",
       "      <td>55.882</td>\n",
       "      <td>4897</td>\n",
       "      <td>357</td>\n",
       "      <td>2</td>\n",
       "      <td>68</td>\n",
       "      <td>16</td>\n",
       "      <td>Male</td>\n",
       "      <td>No</td>\n",
       "      <td>Yes</td>\n",
       "      <td>Caucasian</td>\n",
       "      <td>331</td>\n",
       "    </tr>\n",
       "    <tr>\n",
       "      <th>5</th>\n",
       "      <td>80.180</td>\n",
       "      <td>8047</td>\n",
       "      <td>569</td>\n",
       "      <td>4</td>\n",
       "      <td>77</td>\n",
       "      <td>10</td>\n",
       "      <td>Male</td>\n",
       "      <td>No</td>\n",
       "      <td>No</td>\n",
       "      <td>Caucasian</td>\n",
       "      <td>1151</td>\n",
       "    </tr>\n",
       "    <tr>\n",
       "      <th>6</th>\n",
       "      <td>20.996</td>\n",
       "      <td>3388</td>\n",
       "      <td>259</td>\n",
       "      <td>2</td>\n",
       "      <td>37</td>\n",
       "      <td>12</td>\n",
       "      <td>Female</td>\n",
       "      <td>No</td>\n",
       "      <td>No</td>\n",
       "      <td>African American</td>\n",
       "      <td>203</td>\n",
       "    </tr>\n",
       "    <tr>\n",
       "      <th>7</th>\n",
       "      <td>71.408</td>\n",
       "      <td>7114</td>\n",
       "      <td>512</td>\n",
       "      <td>2</td>\n",
       "      <td>87</td>\n",
       "      <td>9</td>\n",
       "      <td>Male</td>\n",
       "      <td>No</td>\n",
       "      <td>No</td>\n",
       "      <td>Asian</td>\n",
       "      <td>872</td>\n",
       "    </tr>\n",
       "    <tr>\n",
       "      <th>8</th>\n",
       "      <td>15.125</td>\n",
       "      <td>3300</td>\n",
       "      <td>266</td>\n",
       "      <td>5</td>\n",
       "      <td>66</td>\n",
       "      <td>13</td>\n",
       "      <td>Female</td>\n",
       "      <td>No</td>\n",
       "      <td>No</td>\n",
       "      <td>Caucasian</td>\n",
       "      <td>279</td>\n",
       "    </tr>\n",
       "    <tr>\n",
       "      <th>9</th>\n",
       "      <td>71.061</td>\n",
       "      <td>6819</td>\n",
       "      <td>491</td>\n",
       "      <td>3</td>\n",
       "      <td>41</td>\n",
       "      <td>19</td>\n",
       "      <td>Female</td>\n",
       "      <td>Yes</td>\n",
       "      <td>Yes</td>\n",
       "      <td>African American</td>\n",
       "      <td>1350</td>\n",
       "    </tr>\n",
       "  </tbody>\n",
       "</table>\n",
       "</div>"
      ],
      "text/plain": [
       "    Income  Limit  Rating  Cards  ...  Student  Married         Ethnicity Balance\n",
       "0   14.891   3606     283      2  ...       No      Yes         Caucasian     333\n",
       "1  106.025   6645     483      3  ...      Yes      Yes             Asian     903\n",
       "2  104.593   7075     514      4  ...       No       No             Asian     580\n",
       "3  148.924   9504     681      3  ...       No       No             Asian     964\n",
       "4   55.882   4897     357      2  ...       No      Yes         Caucasian     331\n",
       "5   80.180   8047     569      4  ...       No       No         Caucasian    1151\n",
       "6   20.996   3388     259      2  ...       No       No  African American     203\n",
       "7   71.408   7114     512      2  ...       No       No             Asian     872\n",
       "8   15.125   3300     266      5  ...       No       No         Caucasian     279\n",
       "9   71.061   6819     491      3  ...      Yes      Yes  African American    1350\n",
       "\n",
       "[10 rows x 11 columns]"
      ]
     },
     "execution_count": 76,
     "metadata": {
      "tags": []
     },
     "output_type": "execute_result"
    }
   ],
   "source": [
    "credit_card = pd.read_csv('credit.csv')\n",
    "credit_card.head(10)"
   ]
  },
  {
   "cell_type": "code",
   "execution_count": 7,
   "metadata": {
    "colab": {
     "base_uri": "https://localhost:8080/",
     "height": 34
    },
    "colab_type": "code",
    "id": "VyOQogtzTUFB",
    "outputId": "e6851f0f-0dac-462f-a4d2-b6174b1a791f"
   },
   "outputs": [
    {
     "data": {
      "text/plain": [
       "(400, 11)"
      ]
     },
     "execution_count": 7,
     "metadata": {
      "tags": []
     },
     "output_type": "execute_result"
    }
   ],
   "source": [
    "credit_card.shape"
   ]
  },
  {
   "cell_type": "code",
   "execution_count": 8,
   "metadata": {
    "colab": {
     "base_uri": "https://localhost:8080/",
     "height": 284
    },
    "colab_type": "code",
    "id": "gBGj7IvvTUFF",
    "outputId": "b055ceba-b07a-497e-b642-50eb20f39624"
   },
   "outputs": [
    {
     "data": {
      "text/html": [
       "<div>\n",
       "<style scoped>\n",
       "    .dataframe tbody tr th:only-of-type {\n",
       "        vertical-align: middle;\n",
       "    }\n",
       "\n",
       "    .dataframe tbody tr th {\n",
       "        vertical-align: top;\n",
       "    }\n",
       "\n",
       "    .dataframe thead th {\n",
       "        text-align: right;\n",
       "    }\n",
       "</style>\n",
       "<table border=\"1\" class=\"dataframe\">\n",
       "  <thead>\n",
       "    <tr style=\"text-align: right;\">\n",
       "      <th></th>\n",
       "      <th>Income</th>\n",
       "      <th>Limit</th>\n",
       "      <th>Rating</th>\n",
       "      <th>Cards</th>\n",
       "      <th>Age</th>\n",
       "      <th>Education</th>\n",
       "      <th>Balance</th>\n",
       "    </tr>\n",
       "  </thead>\n",
       "  <tbody>\n",
       "    <tr>\n",
       "      <th>count</th>\n",
       "      <td>400.000000</td>\n",
       "      <td>400.000000</td>\n",
       "      <td>400.000000</td>\n",
       "      <td>400.000000</td>\n",
       "      <td>400.000000</td>\n",
       "      <td>400.000000</td>\n",
       "      <td>400.000000</td>\n",
       "    </tr>\n",
       "    <tr>\n",
       "      <th>mean</th>\n",
       "      <td>45.218885</td>\n",
       "      <td>4735.600000</td>\n",
       "      <td>354.940000</td>\n",
       "      <td>2.957500</td>\n",
       "      <td>55.667500</td>\n",
       "      <td>13.450000</td>\n",
       "      <td>520.015000</td>\n",
       "    </tr>\n",
       "    <tr>\n",
       "      <th>std</th>\n",
       "      <td>35.244273</td>\n",
       "      <td>2308.198848</td>\n",
       "      <td>154.724143</td>\n",
       "      <td>1.371275</td>\n",
       "      <td>17.249807</td>\n",
       "      <td>3.125207</td>\n",
       "      <td>459.758877</td>\n",
       "    </tr>\n",
       "    <tr>\n",
       "      <th>min</th>\n",
       "      <td>10.354000</td>\n",
       "      <td>855.000000</td>\n",
       "      <td>93.000000</td>\n",
       "      <td>1.000000</td>\n",
       "      <td>23.000000</td>\n",
       "      <td>5.000000</td>\n",
       "      <td>0.000000</td>\n",
       "    </tr>\n",
       "    <tr>\n",
       "      <th>25%</th>\n",
       "      <td>21.007250</td>\n",
       "      <td>3088.000000</td>\n",
       "      <td>247.250000</td>\n",
       "      <td>2.000000</td>\n",
       "      <td>41.750000</td>\n",
       "      <td>11.000000</td>\n",
       "      <td>68.750000</td>\n",
       "    </tr>\n",
       "    <tr>\n",
       "      <th>50%</th>\n",
       "      <td>33.115500</td>\n",
       "      <td>4622.500000</td>\n",
       "      <td>344.000000</td>\n",
       "      <td>3.000000</td>\n",
       "      <td>56.000000</td>\n",
       "      <td>14.000000</td>\n",
       "      <td>459.500000</td>\n",
       "    </tr>\n",
       "    <tr>\n",
       "      <th>75%</th>\n",
       "      <td>57.470750</td>\n",
       "      <td>5872.750000</td>\n",
       "      <td>437.250000</td>\n",
       "      <td>4.000000</td>\n",
       "      <td>70.000000</td>\n",
       "      <td>16.000000</td>\n",
       "      <td>863.000000</td>\n",
       "    </tr>\n",
       "    <tr>\n",
       "      <th>max</th>\n",
       "      <td>186.634000</td>\n",
       "      <td>13913.000000</td>\n",
       "      <td>982.000000</td>\n",
       "      <td>9.000000</td>\n",
       "      <td>98.000000</td>\n",
       "      <td>20.000000</td>\n",
       "      <td>1999.000000</td>\n",
       "    </tr>\n",
       "  </tbody>\n",
       "</table>\n",
       "</div>"
      ],
      "text/plain": [
       "           Income         Limit  ...   Education      Balance\n",
       "count  400.000000    400.000000  ...  400.000000   400.000000\n",
       "mean    45.218885   4735.600000  ...   13.450000   520.015000\n",
       "std     35.244273   2308.198848  ...    3.125207   459.758877\n",
       "min     10.354000    855.000000  ...    5.000000     0.000000\n",
       "25%     21.007250   3088.000000  ...   11.000000    68.750000\n",
       "50%     33.115500   4622.500000  ...   14.000000   459.500000\n",
       "75%     57.470750   5872.750000  ...   16.000000   863.000000\n",
       "max    186.634000  13913.000000  ...   20.000000  1999.000000\n",
       "\n",
       "[8 rows x 7 columns]"
      ]
     },
     "execution_count": 8,
     "metadata": {
      "tags": []
     },
     "output_type": "execute_result"
    }
   ],
   "source": [
    "credit_card.describe()"
   ]
  },
  {
   "cell_type": "code",
   "execution_count": 0,
   "metadata": {
    "colab": {},
    "colab_type": "code",
    "id": "ed1r1LZITUFJ"
   },
   "outputs": [],
   "source": [
    "credit_card.Gender = credit_card.Gender.astype('category')\n",
    "credit_card.Student = credit_card.Student.astype('category')\n",
    "credit_card.Married = credit_card.Married.astype('category')\n",
    "credit_card.Ethnicity = credit_card.Ethnicity.astype('category')"
   ]
  },
  {
   "cell_type": "code",
   "execution_count": 11,
   "metadata": {
    "colab": {
     "base_uri": "https://localhost:8080/",
     "height": 166
    },
    "colab_type": "code",
    "id": "ImoqxdtlTUFM",
    "outputId": "9515495d-b99f-4de4-83f8-834ad28bf15f"
   },
   "outputs": [
    {
     "data": {
      "text/html": [
       "<div>\n",
       "<style scoped>\n",
       "    .dataframe tbody tr th:only-of-type {\n",
       "        vertical-align: middle;\n",
       "    }\n",
       "\n",
       "    .dataframe tbody tr th {\n",
       "        vertical-align: top;\n",
       "    }\n",
       "\n",
       "    .dataframe thead th {\n",
       "        text-align: right;\n",
       "    }\n",
       "</style>\n",
       "<table border=\"1\" class=\"dataframe\">\n",
       "  <thead>\n",
       "    <tr style=\"text-align: right;\">\n",
       "      <th></th>\n",
       "      <th>Gender</th>\n",
       "      <th>Student</th>\n",
       "      <th>Married</th>\n",
       "      <th>Ethnicity</th>\n",
       "    </tr>\n",
       "  </thead>\n",
       "  <tbody>\n",
       "    <tr>\n",
       "      <th>count</th>\n",
       "      <td>400</td>\n",
       "      <td>400</td>\n",
       "      <td>400</td>\n",
       "      <td>400</td>\n",
       "    </tr>\n",
       "    <tr>\n",
       "      <th>unique</th>\n",
       "      <td>2</td>\n",
       "      <td>2</td>\n",
       "      <td>2</td>\n",
       "      <td>3</td>\n",
       "    </tr>\n",
       "    <tr>\n",
       "      <th>top</th>\n",
       "      <td>Female</td>\n",
       "      <td>No</td>\n",
       "      <td>Yes</td>\n",
       "      <td>Caucasian</td>\n",
       "    </tr>\n",
       "    <tr>\n",
       "      <th>freq</th>\n",
       "      <td>207</td>\n",
       "      <td>360</td>\n",
       "      <td>245</td>\n",
       "      <td>199</td>\n",
       "    </tr>\n",
       "  </tbody>\n",
       "</table>\n",
       "</div>"
      ],
      "text/plain": [
       "        Gender Student Married  Ethnicity\n",
       "count      400     400     400        400\n",
       "unique       2       2       2          3\n",
       "top     Female      No     Yes  Caucasian\n",
       "freq       207     360     245        199"
      ]
     },
     "execution_count": 11,
     "metadata": {
      "tags": []
     },
     "output_type": "execute_result"
    }
   ],
   "source": [
    "credit_card.describe(include=['category'])"
   ]
  },
  {
   "cell_type": "markdown",
   "metadata": {
    "colab_type": "text",
    "id": "jlpI0zRwTUFQ"
   },
   "source": [
    "# Plotting the Balance column vs. other variables"
   ]
  },
  {
   "cell_type": "code",
   "execution_count": 12,
   "metadata": {
    "colab": {
     "base_uri": "https://localhost:8080/",
     "height": 510
    },
    "colab_type": "code",
    "id": "yW86nTRvTUFR",
    "outputId": "1f4a48ae-dcfe-4586-95e4-6a5ffaebb027"
   },
   "outputs": [
    {
     "data": {
      "text/plain": [
       "<matplotlib.axes._subplots.AxesSubplot at 0x7fab550d23c8>"
      ]
     },
     "execution_count": 12,
     "metadata": {
      "tags": []
     },
     "output_type": "execute_result"
    },
    {
     "data": {
      "image/png": "[encoded data removed]",
      "text/plain": [
       "<Figure size 1152x576 with 1 Axes>"
      ]
     },
     "metadata": {
      "tags": []
     },
     "output_type": "display_data"
    }
   ],
   "source": [
    "sns.distplot(credit_card.Balance, color='teal')"
   ]
  },
  {
   "cell_type": "code",
   "execution_count": 13,
   "metadata": {
    "colab": {
     "base_uri": "https://localhost:8080/",
     "height": 732
    },
    "colab_type": "code",
    "id": "YRY1BzgDTUFV",
    "outputId": "3f224234-33f4-4c3f-9087-3ea5afb46ebe"
   },
   "outputs": [
    {
     "data": {
      "image/png": "[encoded data removed]",
      "text/plain": [
       "<Figure size 1152x576 with 3 Axes>"
      ]
     },
     "metadata": {
      "tags": []
     },
     "output_type": "display_data"
    },
    {
     "data": {
      "image/png": "[encoded data removed]",
      "text/plain": [
       "<Figure size 1152x576 with 2 Axes>"
      ]
     },
     "metadata": {
      "tags": []
     },
     "output_type": "display_data"
    }
   ],
   "source": [
    "plt.subplot(131)\n",
    "plt.scatter(credit_card['Education'], credit_card['Balance'])\n",
    "#credit_card[['Education','Balance']].plot.kde()\n",
    "plt.xlabel('education')\n",
    "plt.ylabel('balance')\n",
    "\n",
    "plt.subplot(132)\n",
    "plt.scatter(credit_card['Age'], credit_card['Balance'])\n",
    "plt.xlabel('age')\n",
    "plt.ylabel('balance')\n",
    "\n",
    "plt.subplot(133)\n",
    "plt.scatter(credit_card['Income'], credit_card['Balance'])\n",
    "plt.xlabel('income')\n",
    "plt.ylabel('balance')\n",
    "\n",
    "plt.show()\n",
    "\n",
    "plt.subplot(221)\n",
    "plt.scatter(credit_card['Limit'], credit_card['Balance'])\n",
    "plt.xlabel('married')\n",
    "plt.ylabel('balance')\n",
    "\n",
    "plt.subplot(222)\n",
    "plt.scatter(credit_card['Rating'], credit_card['Balance'])\n",
    "plt.xlabel('ethnicity')\n",
    "plt.ylabel('balance')\n",
    "\n",
    "plt.show()"
   ]
  },
  {
   "cell_type": "markdown",
   "metadata": {
    "colab_type": "text",
    "id": "YySDwk9_TUFZ"
   },
   "source": [
    "# Correlation check"
   ]
  },
  {
   "cell_type": "code",
   "execution_count": 14,
   "metadata": {
    "colab": {
     "base_uri": "https://localhost:8080/",
     "height": 649
    },
    "colab_type": "code",
    "id": "8E7tg1N3TUFa",
    "outputId": "3186489f-1209-4eb5-88ad-ffc95ead426c"
   },
   "outputs": [
    {
     "data": {
      "image/png": "[encoded data removed]",
      "text/plain": [
       "<Figure size 576x576 with 2 Axes>"
      ]
     },
     "metadata": {
      "tags": []
     },
     "output_type": "display_data"
    },
    {
     "name": "stdout",
     "output_type": "stream",
     "text": [
      "             Income     Limit    Rating  ...       Age  Education   Balance\n",
      "Income     1.000000  0.792088  0.791378  ...  0.175338  -0.027692  0.463656\n",
      "Limit      0.792088  1.000000  0.996880  ...  0.100888  -0.023549  0.861697\n",
      "Rating     0.791378  0.996880  1.000000  ...  0.103165  -0.030136  0.863625\n",
      "Cards     -0.018273  0.010231  0.053239  ...  0.042948  -0.051084  0.086456\n",
      "Age        0.175338  0.100888  0.103165  ...  1.000000   0.003619  0.001835\n",
      "Education -0.027692 -0.023549 -0.030136  ...  0.003619   1.000000 -0.008062\n",
      "Balance    0.463656  0.861697  0.863625  ...  0.001835  -0.008062  1.000000\n",
      "\n",
      "[7 rows x 7 columns]\n"
     ]
    }
   ],
   "source": [
    "numeric_credit_df = credit_card.select_dtypes(include=['int64', 'float64'])\n",
    "plt.matshow(credit_card.corr(),cmap='Greens')\n",
    "plt.xticks(range(len(numeric_credit_df.columns)), numeric_credit_df.columns)\n",
    "plt.yticks(range(len(numeric_credit_df.columns)), numeric_credit_df.columns)\n",
    "plt.colorbar()\n",
    "plt.show()\n",
    "\n",
    "print(credit_card.corr())"
   ]
  },
  {
   "cell_type": "markdown",
   "metadata": {
    "colab_type": "text",
    "id": "uEEpJfuITUFe"
   },
   "source": [
    " Based on this correlation matrix, we notice that Balance appears to be correlated with Limit, Rating and moderately correlated with Income. "
   ]
  },
  {
   "cell_type": "code",
   "execution_count": 15,
   "metadata": {
    "colab": {
     "base_uri": "https://localhost:8080/",
     "height": 118
    },
    "colab_type": "code",
    "id": "ee4MlL9sTUFf",
    "outputId": "cc02a712-7cfb-409a-f9f5-ae7bb4966b3d"
   },
   "outputs": [
    {
     "name": "stdout",
     "output_type": "stream",
     "text": [
      "==============================================================================\n",
      "                 coef    std err          t      P>|t|      [0.025      0.975]\n",
      "------------------------------------------------------------------------------\n",
      "Intercept    246.5148     33.199      7.425      0.000     181.247     311.783\n",
      "Income         6.0484      0.579     10.440      0.000       4.909       7.187\n",
      "==============================================================================\n"
     ]
    }
   ],
   "source": [
    "# How well Income predicts Balance\n",
    "\n",
    "lm2 = smf.ols('Balance ~ Income', data=credit_card).fit()\n",
    "print(lm2.summary().tables[1])"
   ]
  },
  {
   "cell_type": "code",
   "execution_count": 16,
   "metadata": {
    "colab": {
     "base_uri": "https://localhost:8080/",
     "height": 118
    },
    "colab_type": "code",
    "id": "ItIB9BDWTUFj",
    "outputId": "0ab2cb44-84af-425a-9530-c062a6a3243c"
   },
   "outputs": [
    {
     "name": "stdout",
     "output_type": "stream",
     "text": [
      "==============================================================================\n",
      "                 coef    std err          t      P>|t|      [0.025      0.975]\n",
      "------------------------------------------------------------------------------\n",
      "Intercept   -292.7905     26.683    -10.973      0.000    -345.249    -240.332\n",
      "Limit          0.1716      0.005     33.879      0.000       0.162       0.182\n",
      "==============================================================================\n"
     ]
    }
   ],
   "source": [
    "# How well Limit predicts Sales\n",
    "\n",
    "lm3 = smf.ols('Balance ~ Limit', data=credit_card).fit()\n",
    "print(lm3.summary().tables[1])"
   ]
  },
  {
   "cell_type": "code",
   "execution_count": 17,
   "metadata": {
    "colab": {
     "base_uri": "https://localhost:8080/",
     "height": 118
    },
    "colab_type": "code",
    "id": "wxUphaCTTUFm",
    "outputId": "7881ad64-2404-426f-8cd9-b9126c23a94b"
   },
   "outputs": [
    {
     "name": "stdout",
     "output_type": "stream",
     "text": [
      "==============================================================================\n",
      "                 coef    std err          t      P>|t|      [0.025      0.975]\n",
      "------------------------------------------------------------------------------\n",
      "Intercept   -390.8463     29.069    -13.446      0.000    -447.993    -333.699\n",
      "Rating         2.5662      0.075     34.176      0.000       2.419       2.714\n",
      "==============================================================================\n"
     ]
    }
   ],
   "source": [
    "# How well Newspaper predicts Sales\n",
    "\n",
    "lm4 = smf.ols('Balance ~ Rating', data=credit_card).fit()\n",
    "print(lm4.summary().tables[1])"
   ]
  },
  {
   "cell_type": "code",
   "execution_count": 18,
   "metadata": {
    "colab": {
     "base_uri": "https://localhost:8080/",
     "height": 622
    },
    "colab_type": "code",
    "id": "oyCJ3qpZTUFp",
    "outputId": "3c74c99b-4f13-4f58-c984-361668a62c93"
   },
   "outputs": [
    {
     "name": "stdout",
     "output_type": "stream",
     "text": [
      "                            OLS Regression Results                            \n",
      "==============================================================================\n",
      "Dep. Variable:                Balance   R-squared:                       0.955\n",
      "Model:                            OLS   Adj. R-squared:                  0.954\n",
      "Method:                 Least Squares   F-statistic:                     824.9\n",
      "Date:                Wed, 13 Nov 2019   Prob (F-statistic):          6.73e-255\n",
      "Time:                        19:53:49   Log-Likelihood:                -2399.3\n",
      "No. Observations:                 400   AIC:                             4821.\n",
      "Df Residuals:                     389   BIC:                             4864.\n",
      "Df Model:                          10                                         \n",
      "Covariance Type:            nonrobust                                         \n",
      "==========================================================================================\n",
      "                             coef    std err          t      P>|t|      [0.025      0.975]\n",
      "------------------------------------------------------------------------------------------\n",
      "Intercept               -484.4288     35.450    -13.665      0.000    -554.125    -414.732\n",
      "Ethnicity[T.Asian]        16.4686     14.118      1.166      0.244     -11.289      44.227\n",
      "Ethnicity[T.Caucasian]    10.0324     12.212      0.822      0.412     -13.978      34.042\n",
      "Student[T.Yes]           424.7378     16.699     25.434      0.000     391.905     457.570\n",
      "Married[T.Yes]            -8.7049     10.364     -0.840      0.401     -29.081      11.671\n",
      "Income                    -7.7941      0.234    -33.290      0.000      -8.254      -7.334\n",
      "Limit                      0.1909      0.033      5.824      0.000       0.126       0.255\n",
      "Rating                     1.1341      0.491      2.310      0.021       0.169       2.099\n",
      "Cards                     17.8297      4.341      4.107      0.000       9.295      26.364\n",
      "Age                       -0.6183      0.294     -2.103      0.036      -1.196      -0.040\n",
      "Education                 -1.0788      1.598     -0.675      0.500      -4.221       2.063\n",
      "==============================================================================\n",
      "Omnibus:                       34.964   Durbin-Watson:                   1.967\n",
      "Prob(Omnibus):                  0.000   Jarque-Bera (JB):               41.814\n",
      "Skew:                           0.781   Prob(JB):                     8.32e-10\n",
      "Kurtosis:                       3.258   Cond. No.                     3.83e+04\n",
      "==============================================================================\n",
      "\n",
      "Warnings:\n",
      "[1] Standard Errors assume that the covariance matrix of the errors is correctly specified.\n",
      "[2] The condition number is large, 3.83e+04. This might indicate that there are\n",
      "strong multicollinearity or other numerical problems.\n"
     ]
    }
   ],
   "source": [
    "# How well all predicts Sales\n",
    "\n",
    "lm_relevant = smf.ols('Balance ~ Income + Limit + Rating + Cards + Age + Education + Ethnicity + Student + Married', data=credit_card).fit()\n",
    "print(lm_relevant.summary())"
   ]
  },
  {
   "cell_type": "markdown",
   "metadata": {
    "colab_type": "text",
    "id": "6QhEnFH-TUFs"
   },
   "source": [
    "# Applying Linear Regression method"
   ]
  },
  {
   "cell_type": "markdown",
   "metadata": {
    "colab_type": "text",
    "id": "xX8_ZfLlgdhD"
   },
   "source": [
    "**Changes introduces**"
   ]
  },
  {
   "cell_type": "code",
   "execution_count": 0,
   "metadata": {
    "colab": {},
    "colab_type": "code",
    "id": "hCCBD_oEeUXq"
   },
   "outputs": [],
   "source": [
    "df = credit_card\n",
    "df['Student']=pd.get_dummies(df['Student'])\n",
    "df['Gender']=pd.get_dummies(df['Gender'])\n",
    "df['Married']=pd.get_dummies(df['Married'])\n",
    "ethnicity = pd.get_dummies(df['Ethnicity'])"
   ]
  },
  {
   "cell_type": "code",
   "execution_count": 78,
   "metadata": {
    "colab": {
     "base_uri": "https://localhost:8080/",
     "height": 336
    },
    "colab_type": "code",
    "id": "goHD-B5TaQqk",
    "outputId": "98397415-1e7f-4d00-84de-5669dbf86e83"
   },
   "outputs": [
    {
     "data": {
      "text/plain": [
       "array([2, 1, 1, 1, 2, 2, 0, 1, 2, 0, 2, 2, 1, 2, 0, 0, 0, 1, 1, 1, 1, 2,\n",
       "       0, 0, 2, 0, 2, 0, 0, 2, 2, 1, 2, 2, 1, 2, 2, 2, 2, 2, 0, 0, 1, 1,\n",
       "       2, 2, 1, 2, 1, 0, 0, 0, 2, 1, 1, 1, 1, 2, 2, 2, 1, 2, 2, 2, 0, 2,\n",
       "       1, 0, 2, 2, 2, 1, 1, 2, 2, 0, 2, 1, 2, 1, 2, 2, 2, 2, 2, 1, 2, 1,\n",
       "       0, 0, 0, 2, 2, 0, 0, 0, 1, 0, 0, 2, 2, 2, 2, 2, 2, 2, 1, 1, 2, 1,\n",
       "       1, 0, 2, 1, 2, 0, 2, 1, 2, 2, 1, 2, 2, 0, 2, 2, 1, 2, 0, 0, 0, 1,\n",
       "       0, 0, 0, 0, 0, 1, 2, 0, 0, 2, 1, 0, 2, 1, 2, 2, 2, 1, 0, 2, 2, 2,\n",
       "       0, 1, 2, 2, 1, 1, 2, 2, 2, 0, 1, 2, 0, 2, 1, 2, 1, 2, 1, 0, 0, 2,\n",
       "       2, 1, 2, 2, 1, 0, 0, 1, 2, 0, 0, 1, 0, 2, 2, 1, 1, 2, 0, 0, 0, 0,\n",
       "       0, 1, 0, 2, 2, 0, 2, 2, 2, 2, 0, 0, 2, 2, 2, 0, 2, 2, 1, 2, 1, 2,\n",
       "       1, 0, 2, 1, 2, 1, 2, 2, 0, 1, 0, 2, 1, 2, 0, 0, 1, 1, 2, 1, 1, 0,\n",
       "       1, 2, 2, 0, 1, 2, 2, 2, 1, 2, 2, 0, 2, 0, 1, 1, 2, 2, 1, 1, 2, 0,\n",
       "       2, 0, 2, 1, 2, 2, 2, 2, 1, 1, 0, 2, 2, 2, 2, 2, 0, 0, 2, 2, 2, 1,\n",
       "       2, 2, 1, 2, 1, 2, 2, 0, 1, 2, 2, 1, 0, 0, 2, 2, 2, 0, 1, 1, 2, 1,\n",
       "       1, 2, 0, 2, 2, 1, 0, 2, 1, 2, 2, 0, 0, 2, 2, 2, 1, 2, 2, 1, 2, 2,\n",
       "       1, 2, 2, 0, 2, 2, 2, 0, 2, 0, 0, 2, 0, 2, 1, 2, 1, 2, 2, 1, 2, 2,\n",
       "       0, 2, 1, 0, 2, 1, 2, 0, 2, 1, 0, 2, 1, 2, 2, 0, 2, 2, 2, 2, 2, 2,\n",
       "       2, 2, 0, 2, 2, 2, 0, 2, 2, 2, 0, 1, 0, 1, 2, 2, 1, 2, 1, 0, 2, 2,\n",
       "       0, 2, 2, 1])"
      ]
     },
     "execution_count": 78,
     "metadata": {
      "tags": []
     },
     "output_type": "execute_result"
    }
   ],
   "source": [
    "ethnicity = np.argmax(ethnicity.values,axis=1)\n",
    "ethnicity"
   ]
  },
  {
   "cell_type": "code",
   "execution_count": 0,
   "metadata": {
    "colab": {},
    "colab_type": "code",
    "id": "cy2vO9bsbV3H"
   },
   "outputs": [],
   "source": [
    "df['Ethnicity']=ethnicity"
   ]
  },
  {
   "cell_type": "code",
   "execution_count": 80,
   "metadata": {
    "colab": {
     "base_uri": "https://localhost:8080/",
     "height": 481
    },
    "colab_type": "code",
    "id": "_dgOTUmAbnJX",
    "outputId": "c5bcc20a-d87f-4cc7-87e1-7f357bf3b742"
   },
   "outputs": [
    {
     "data": {
      "image/png": "[encoded data removed]",
      "text/plain": [
       "<Figure size 576x576 with 2 Axes>"
      ]
     },
     "metadata": {
      "tags": []
     },
     "output_type": "display_data"
    }
   ],
   "source": [
    "plt.matshow(df.corr(),cmap='Greens')\n",
    "plt.xticks(range(len(df.columns)),df.columns)\n",
    "plt.yticks(range(len(df.columns)),df.columns)\n",
    "plt.colorbar()\n",
    "plt.show()"
   ]
  },
  {
   "cell_type": "code",
   "execution_count": 0,
   "metadata": {
    "colab": {},
    "colab_type": "code",
    "id": "OlFT4RbXcX2D"
   },
   "outputs": [],
   "source": [
    "df.drop(columns=['Age','Education','Gender','Married','Ethnicity','Student'],inplace=True)"
   ]
  },
  {
   "cell_type": "code",
   "execution_count": 86,
   "metadata": {
    "colab": {
     "base_uri": "https://localhost:8080/",
     "height": 195
    },
    "colab_type": "code",
    "id": "nvy6_Nf1ckTl",
    "outputId": "b1b8bc33-3e33-4eb1-b5f1-85136c6f64fc"
   },
   "outputs": [
    {
     "data": {
      "text/html": [
       "<div>\n",
       "<style scoped>\n",
       "    .dataframe tbody tr th:only-of-type {\n",
       "        vertical-align: middle;\n",
       "    }\n",
       "\n",
       "    .dataframe tbody tr th {\n",
       "        vertical-align: top;\n",
       "    }\n",
       "\n",
       "    .dataframe thead th {\n",
       "        text-align: right;\n",
       "    }\n",
       "</style>\n",
       "<table border=\"1\" class=\"dataframe\">\n",
       "  <thead>\n",
       "    <tr style=\"text-align: right;\">\n",
       "      <th></th>\n",
       "      <th>Income</th>\n",
       "      <th>Limit</th>\n",
       "      <th>Rating</th>\n",
       "      <th>Cards</th>\n",
       "      <th>Balance</th>\n",
       "    </tr>\n",
       "  </thead>\n",
       "  <tbody>\n",
       "    <tr>\n",
       "      <th>0</th>\n",
       "      <td>14.891</td>\n",
       "      <td>3606</td>\n",
       "      <td>283</td>\n",
       "      <td>2</td>\n",
       "      <td>333</td>\n",
       "    </tr>\n",
       "    <tr>\n",
       "      <th>1</th>\n",
       "      <td>106.025</td>\n",
       "      <td>6645</td>\n",
       "      <td>483</td>\n",
       "      <td>3</td>\n",
       "      <td>903</td>\n",
       "    </tr>\n",
       "    <tr>\n",
       "      <th>2</th>\n",
       "      <td>104.593</td>\n",
       "      <td>7075</td>\n",
       "      <td>514</td>\n",
       "      <td>4</td>\n",
       "      <td>580</td>\n",
       "    </tr>\n",
       "    <tr>\n",
       "      <th>3</th>\n",
       "      <td>148.924</td>\n",
       "      <td>9504</td>\n",
       "      <td>681</td>\n",
       "      <td>3</td>\n",
       "      <td>964</td>\n",
       "    </tr>\n",
       "    <tr>\n",
       "      <th>4</th>\n",
       "      <td>55.882</td>\n",
       "      <td>4897</td>\n",
       "      <td>357</td>\n",
       "      <td>2</td>\n",
       "      <td>331</td>\n",
       "    </tr>\n",
       "  </tbody>\n",
       "</table>\n",
       "</div>"
      ],
      "text/plain": [
       "    Income  Limit  Rating  Cards  Balance\n",
       "0   14.891   3606     283      2      333\n",
       "1  106.025   6645     483      3      903\n",
       "2  104.593   7075     514      4      580\n",
       "3  148.924   9504     681      3      964\n",
       "4   55.882   4897     357      2      331"
      ]
     },
     "execution_count": 86,
     "metadata": {
      "tags": []
     },
     "output_type": "execute_result"
    }
   ],
   "source": [
    "df.head()"
   ]
  },
  {
   "cell_type": "code",
   "execution_count": 0,
   "metadata": {
    "colab": {},
    "colab_type": "code",
    "id": "3g2Clpp7TUFt"
   },
   "outputs": [],
   "source": [
    "X = credit_card['Rating'].values.reshape(-1,1)\n",
    "y = credit_card['Balance'].values.reshape(-1,1)"
   ]
  },
  {
   "cell_type": "code",
   "execution_count": 0,
   "metadata": {
    "colab": {},
    "colab_type": "code",
    "id": "XbTsgSJRTUFw"
   },
   "outputs": [],
   "source": [
    "X_train, X_test, y_train, y_test = train_test_split(df, y, test_size=0.2, random_state=67)"
   ]
  },
  {
   "cell_type": "code",
   "execution_count": 89,
   "metadata": {
    "colab": {
     "base_uri": "https://localhost:8080/",
     "height": 34
    },
    "colab_type": "code",
    "id": "Yj45t42lTUFz",
    "outputId": "228fa47a-47b4-4373-8b82-3fd2371e2a39"
   },
   "outputs": [
    {
     "data": {
      "text/plain": [
       "LinearRegression(copy_X=True, fit_intercept=True, n_jobs=None, normalize=True)"
      ]
     },
     "execution_count": 89,
     "metadata": {
      "tags": []
     },
     "output_type": "execute_result"
    }
   ],
   "source": [
    "regressor = LinearRegression(normalize=True)\n",
    "regressor.fit(X_train, y_train) #training the algorithm"
   ]
  },
  {
   "cell_type": "code",
   "execution_count": 90,
   "metadata": {
    "colab": {
     "base_uri": "https://localhost:8080/",
     "height": 67
    },
    "colab_type": "code",
    "id": "A_iwhsEqTUF2",
    "outputId": "c3a4669e-d313-411d-b2f9-65fd7a8a4308"
   },
   "outputs": [
    {
     "name": "stdout",
     "output_type": "stream",
     "text": [
      "[-5.68434189e-13]\n",
      "[[-4.31749553e-15  1.09716554e-17  1.22419417e-15  4.94692530e-14\n",
      "   1.00000000e+00]]\n"
     ]
    }
   ],
   "source": [
    "#To retrieve the intercept:\n",
    "print(regressor.intercept_)\n",
    "#For retrieving the slope:\n",
    "print(regressor.coef_)"
   ]
  },
  {
   "cell_type": "code",
   "execution_count": 0,
   "metadata": {
    "colab": {},
    "colab_type": "code",
    "id": "J6WX8riUTUF5"
   },
   "outputs": [],
   "source": [
    "y_pred = regressor.predict(X_test)"
   ]
  },
  {
   "cell_type": "code",
   "execution_count": 92,
   "metadata": {
    "colab": {
     "base_uri": "https://localhost:8080/",
     "height": 402
    },
    "colab_type": "code",
    "id": "CRfKSySMTUF8",
    "outputId": "ac407eb4-bf4c-4346-a968-2ac7612f72ca"
   },
   "outputs": [
    {
     "data": {
      "text/html": [
       "<div>\n",
       "<style scoped>\n",
       "    .dataframe tbody tr th:only-of-type {\n",
       "        vertical-align: middle;\n",
       "    }\n",
       "\n",
       "    .dataframe tbody tr th {\n",
       "        vertical-align: top;\n",
       "    }\n",
       "\n",
       "    .dataframe thead th {\n",
       "        text-align: right;\n",
       "    }\n",
       "</style>\n",
       "<table border=\"1\" class=\"dataframe\">\n",
       "  <thead>\n",
       "    <tr style=\"text-align: right;\">\n",
       "      <th></th>\n",
       "      <th>Actual</th>\n",
       "      <th>Predicted</th>\n",
       "    </tr>\n",
       "  </thead>\n",
       "  <tbody>\n",
       "    <tr>\n",
       "      <th>0</th>\n",
       "      <td>1054</td>\n",
       "      <td>1.054000e+03</td>\n",
       "    </tr>\n",
       "    <tr>\n",
       "      <th>1</th>\n",
       "      <td>0</td>\n",
       "      <td>-3.185639e-13</td>\n",
       "    </tr>\n",
       "    <tr>\n",
       "      <th>2</th>\n",
       "      <td>1329</td>\n",
       "      <td>1.329000e+03</td>\n",
       "    </tr>\n",
       "    <tr>\n",
       "      <th>3</th>\n",
       "      <td>962</td>\n",
       "      <td>9.620000e+02</td>\n",
       "    </tr>\n",
       "    <tr>\n",
       "      <th>4</th>\n",
       "      <td>0</td>\n",
       "      <td>-4.319711e-13</td>\n",
       "    </tr>\n",
       "    <tr>\n",
       "      <th>...</th>\n",
       "      <td>...</td>\n",
       "      <td>...</td>\n",
       "    </tr>\n",
       "    <tr>\n",
       "      <th>75</th>\n",
       "      <td>701</td>\n",
       "      <td>7.010000e+02</td>\n",
       "    </tr>\n",
       "    <tr>\n",
       "      <th>76</th>\n",
       "      <td>856</td>\n",
       "      <td>8.560000e+02</td>\n",
       "    </tr>\n",
       "    <tr>\n",
       "      <th>77</th>\n",
       "      <td>0</td>\n",
       "      <td>-3.040657e-13</td>\n",
       "    </tr>\n",
       "    <tr>\n",
       "      <th>78</th>\n",
       "      <td>1032</td>\n",
       "      <td>1.032000e+03</td>\n",
       "    </tr>\n",
       "    <tr>\n",
       "      <th>79</th>\n",
       "      <td>138</td>\n",
       "      <td>1.380000e+02</td>\n",
       "    </tr>\n",
       "  </tbody>\n",
       "</table>\n",
       "<p>80 rows × 2 columns</p>\n",
       "</div>"
      ],
      "text/plain": [
       "    Actual     Predicted\n",
       "0     1054  1.054000e+03\n",
       "1        0 -3.185639e-13\n",
       "2     1329  1.329000e+03\n",
       "3      962  9.620000e+02\n",
       "4        0 -4.319711e-13\n",
       "..     ...           ...\n",
       "75     701  7.010000e+02\n",
       "76     856  8.560000e+02\n",
       "77       0 -3.040657e-13\n",
       "78    1032  1.032000e+03\n",
       "79     138  1.380000e+02\n",
       "\n",
       "[80 rows x 2 columns]"
      ]
     },
     "execution_count": 92,
     "metadata": {
      "tags": []
     },
     "output_type": "execute_result"
    }
   ],
   "source": [
    "prediction = pd.DataFrame({'Actual': y_test.flatten(), 'Predicted': y_pred.flatten()})\n",
    "prediction"
   ]
  },
  {
   "cell_type": "code",
   "execution_count": 93,
   "metadata": {
    "colab": {
     "base_uri": "https://localhost:8080/",
     "height": 589
    },
    "colab_type": "code",
    "id": "bZU14hO_TUGB",
    "outputId": "b94c0ce6-0128-4f6e-d43a-8c3643d40572"
   },
   "outputs": [
    {
     "data": {
      "image/png": "[encoded data removed]",
      "text/plain": [
       "<Figure size 1152x720 with 1 Axes>"
      ]
     },
     "metadata": {
      "tags": []
     },
     "output_type": "display_data"
    }
   ],
   "source": [
    "pred_plot = prediction.head(30)\n",
    "pred_plot.plot(kind='bar',figsize=(16,10))\n",
    "plt.grid(which='major', linestyle='-', linewidth='0.5', color='green')\n",
    "plt.grid(which='minor', linestyle=':', linewidth='0.5', color='black')\n",
    "plt.show()"
   ]
  },
  {
   "cell_type": "code",
   "execution_count": 0,
   "metadata": {
    "colab": {},
    "colab_type": "code",
    "id": "99MY8M7yTUGF"
   },
   "outputs": [],
   "source": [
    "#plt.scatter(X_test, y_test,  color='gray')\n",
    "#plt.plot(X_test, y_pred, color='red', linewidth=2)\n",
    "#plt.show()"
   ]
  },
  {
   "cell_type": "markdown",
   "metadata": {
    "colab_type": "text",
    "id": "CFkE091jTUGJ"
   },
   "source": [
    "### Errors"
   ]
  },
  {
   "cell_type": "code",
   "execution_count": 94,
   "metadata": {
    "colab": {
     "base_uri": "https://localhost:8080/",
     "height": 67
    },
    "colab_type": "code",
    "id": "vEsbkgvdTUGK",
    "outputId": "e9af42e6-1ca4-43e1-8c79-d1e8b5ac8d2d"
   },
   "outputs": [
    {
     "name": "stdout",
     "output_type": "stream",
     "text": [
      "Mean Absolute Error: 2.112156900032166e-13\n",
      "Mean Squared Error: 6.477125263078444e-26\n",
      "Root Mean Squared Error: 2.545019697974545e-13\n"
     ]
    }
   ],
   "source": [
    "print('Mean Absolute Error:', metrics.mean_absolute_error(y_test, y_pred))  \n",
    "print('Mean Squared Error:', metrics.mean_squared_error(y_test, y_pred))  \n",
    "print('Root Mean Squared Error:', np.sqrt(metrics.mean_squared_error(y_test, y_pred)))"
   ]
  },
  {
   "cell_type": "markdown",
   "metadata": {
    "colab_type": "text",
    "id": "F1Xld2M4TUGN"
   },
   "source": [
    "<img src=\"https://i.kym-cdn.com/entries/icons/original/000/028/021/work.jpg\"/>"
   ]
  },
  {
   "cell_type": "code",
   "execution_count": 0,
   "metadata": {
    "colab": {},
    "colab_type": "code",
    "id": "W9hxaZFwTUGO"
   },
   "outputs": [],
   "source": []
  }
 ],
 "metadata": {
  "colab": {
   "name": "Tema-3-Linear-Regression.ipynb",
   "provenance": [],
   "toc_visible": true
  },
  "kernelspec": {
   "display_name": "Python 3",
   "language": "python",
   "name": "python3"
  },
  "language_info": {
   "codemirror_mode": {
    "name": "ipython",
    "version": 3
   },
   "file_extension": ".py",
   "mimetype": "text/x-python",
   "name": "python",
   "nbconvert_exporter": "python",
   "pygments_lexer": "ipython3",
   "version": "3.7.3"
  }
 },
 "nbformat": 4,
 "nbformat_minor": 1
}
