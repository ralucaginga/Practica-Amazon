{
 "cells": [
  {
   "cell_type": "markdown",
   "metadata": {},
   "source": [
    "# Spinning a penny"
   ]
  },
  {
   "cell_type": "code",
   "execution_count": 12,
   "metadata": {},
   "outputs": [
    {
     "name": "stdout",
     "output_type": "stream",
     "text": [
      "Populating the interactive namespace from numpy and matplotlib\n"
     ]
    }
   ],
   "source": [
    "import numpy as np\n",
    "import pandas as pd\n",
    "import scipy\n",
    "import matplotlib.pyplot as plt\n",
    "import math as m\n",
    "import scipy.stats as stats\n",
    "\n",
    "%pylab inline\n",
    "pylab.rcParams['figure.figsize'] = (14, 6)"
   ]
  },
  {
   "cell_type": "code",
   "execution_count": 13,
   "metadata": {},
   "outputs": [
    {
     "name": "stdout",
     "output_type": "stream",
     "text": [
      "Heads:  2 0.4\n",
      "Tails:  3 0.6\n"
     ]
    }
   ],
   "source": [
    "np.random.seed(17)\n",
    "\n",
    "draws_5 = 5\n",
    "coin_sample = np.random.binomial(1, 0.5, draws_5)\n",
    "coin_average = [coin_sample[:jj].mean() for jj in range(1, draws_5)]\n",
    "\n",
    "heads = np.sum(coin_sample[coin_sample==1])\n",
    "print('Heads: ', heads, heads/draws_5)\n",
    "print('Tails: ', 5-heads, 1-heads/draws_5)"
   ]
  },
  {
   "cell_type": "code",
   "execution_count": 14,
   "metadata": {},
   "outputs": [
    {
     "name": "stdout",
     "output_type": "stream",
     "text": [
      "Heads:  5 0.5\n",
      "Tails:  5 0.5\n"
     ]
    }
   ],
   "source": [
    "np.random.seed(17)\n",
    "\n",
    "draws_10 = 10\n",
    "coin_sample = np.random.binomial(1, 0.5, draws_10)\n",
    "coin_average = [coin_sample[:jj].mean() for jj in range(1, draws_10)]\n",
    "\n",
    "heads = np.sum(coin_sample[coin_sample==1])\n",
    "print('Heads: ', heads, heads/draws_10)\n",
    "print('Tails: ', 10-heads, 1-heads/draws_10)"
   ]
  },
  {
   "cell_type": "code",
   "execution_count": 15,
   "metadata": {},
   "outputs": [
    {
     "name": "stdout",
     "output_type": "stream",
     "text": [
      "Heads:  14 0.4666666666666667\n",
      "Tails:  16 0.5333333333333333\n"
     ]
    }
   ],
   "source": [
    "np.random.seed(17)\n",
    "\n",
    "draws_30 = 30\n",
    "coin_sample = np.random.binomial(1, 0.5, draws_30)\n",
    "coin_average = [coin_sample[:jj].mean() for jj in range(1, draws_30)]\n",
    "\n",
    "heads = np.sum(coin_sample[coin_sample==1])\n",
    "print('Heads: ', heads, heads/draws_30)\n",
    "print('Tails: ', 30-heads, 1-heads/draws_30)"
   ]
  },
  {
   "cell_type": "code",
   "execution_count": 16,
   "metadata": {},
   "outputs": [
    {
     "name": "stdout",
     "output_type": "stream",
     "text": [
      "Heads:  31 0.5166666666666667\n",
      "Tails:  29 0.4833333333333333\n"
     ]
    }
   ],
   "source": [
    "np.random.seed(17)\n",
    "\n",
    "draws_60 = 60\n",
    "coin_sample = np.random.binomial(1, 0.5, draws_60)\n",
    "coin_average = [coin_sample[:jj].mean() for jj in range(1, draws_60)]\n",
    "\n",
    "heads = np.sum(coin_sample[coin_sample==1])\n",
    "print('Heads: ', heads, heads/draws_60)\n",
    "print('Tails: ', 60-heads, 1-heads/draws_60)"
   ]
  },
  {
   "cell_type": "markdown",
   "metadata": {},
   "source": [
    "# Test the results with hypothesis testing using as a null hypothesis p=0.5."
   ]
  },
  {
   "cell_type": "code",
   "execution_count": 6,
   "metadata": {},
   "outputs": [
    {
     "name": "stdout",
     "output_type": "stream",
     "text": [
      "1.0\n",
      "we are accepting null hypothesis\n",
      "1.0\n",
      "we are accepting null hypothesis\n",
      "0.5846647117286928\n",
      "we are accepting null hypothesis\n",
      "0.8974218269914307\n",
      "we are accepting null hypothesis\n"
     ]
    }
   ],
   "source": [
    "# Using binom_test\n",
    "\n",
    "pval_5 = stats.binom_test(x=[2,3],p=0.5, alternative='two-sided')\n",
    "print(pval_5)\n",
    "if pval_5 < 0.05:    # p_value is 0.05 or 5%\n",
    "   print(\"we are rejecting null hypothesis\")\n",
    "else:\n",
    "  print(\"we are accepting null hypothesis\")\n",
    "\n",
    "pval_10 = stats.binom_test(x=[5,5],p=0.5,alternative='two-sided')\n",
    "print(pval_10)\n",
    "if pval_10 < 0.05:\n",
    "    print('we are rejecting null hypothesis')\n",
    "else:\n",
    "    print('we are accepting null hypothesis')\n",
    "\n",
    "pval_30 = stats.binom_test(x=[14,16],p=0.5,alternative='two-sided')\n",
    "print(pval_30)\n",
    "if pval_30 < 0.05:\n",
    "    print('we are rejecting null hypothesis')\n",
    "else:\n",
    "    print('we are accepting null hypothesis')\n",
    "\n",
    "pval_60 = stats.binom_test(x=[31,29],p=0.5,alternative='two-sided')\n",
    "print(pval_60)\n",
    "if pval_60 < 0.05:\n",
    "    print('we are rejecting null hypothesis')\n",
    "else:\n",
    "    print('we are accepting null hypothesis')"
   ]
  },
  {
   "cell_type": "code",
   "execution_count": 17,
   "metadata": {},
   "outputs": [
    {
     "name": "stdout",
     "output_type": "stream",
     "text": [
      "Power_divergenceResult(statistic=0.2, pvalue=0.6547208460185768)\n",
      "Power_divergenceResult(statistic=0.0, pvalue=1.0)\n",
      "Power_divergenceResult(statistic=0.5333333333333333, pvalue=0.4652088184521417)\n",
      "Power_divergenceResult(statistic=0.06666666666666667, pvalue=0.7962534147376392)\n"
     ]
    }
   ],
   "source": [
    "# Using chisquare\n",
    "\n",
    "print(stats.chisquare(f_obs=[3,2]))\n",
    "print(stats.chisquare(f_obs=[5,5]))\n",
    "print(stats.chisquare(f_obs=[13,17]))\n",
    "print(stats.chisquare(f_obs=[31,29]))"
   ]
  },
  {
   "cell_type": "code",
   "execution_count": 18,
   "metadata": {},
   "outputs": [
    {
     "name": "stdout",
     "output_type": "stream",
     "text": [
      "1.625 1.2460937499999998 1.415335288271307 0.8974218269914307\n"
     ]
    }
   ],
   "source": [
    "# Using binom.cdf\n",
    "\n",
    "p_value_2H = 2*(1-stats.binom.cdf(1,5,0.5))\n",
    "p_value_5H = 2*(1-stats.binom.cdf(4,10,0.5))\n",
    "p_value_14H = 2*(1-stats.binom.cdf(13,30,0.5))\n",
    "p_value_31H = 2*(1-stats.binom.cdf(30,60,0.5))\n",
    "print(p_value_2H,p_value_5H,p_value_14H,p_value_31H)"
   ]
  },
  {
   "cell_type": "markdown",
   "metadata": {},
   "source": [
    "# What can we say about the way the confidence interval is evolving? "
   ]
  },
  {
   "cell_type": "code",
   "execution_count": 81,
   "metadata": {},
   "outputs": [
    {
     "name": "stdout",
     "output_type": "stream",
     "text": [
      "(0.0, 5.0)\n",
      "(2.0, 8.0)\n",
      "(10.0, 20.0)\n",
      "(22.0, 38.0)\n"
     ]
    }
   ],
   "source": [
    "# Confidence interval\n",
    "alpha = 0.05\n",
    "# n = 5\n",
    "print(stats.binom.interval(1 - alpha, 5, 0.5))\n",
    "# n = 10\n",
    "print(stats.binom.interval(1-alpha, 10, 0.5))\n",
    "# n = 30\n",
    "print(stats.binom.interval(1-alpha,30,0.5))\n",
    "# n = 60\n",
    "print(stats.binom.interval(1-alpha,60,0.5))"
   ]
  },
  {
   "cell_type": "markdown",
   "metadata": {},
   "source": [
    "# Verify if there's a correlation between the girls' heights or boys' heights vs their mothers' heights."
   ]
  },
  {
   "cell_type": "code",
   "execution_count": 82,
   "metadata": {},
   "outputs": [],
   "source": [
    "pearson = pd.read_csv('pearson.csv')"
   ]
  },
  {
   "cell_type": "code",
   "execution_count": 83,
   "metadata": {},
   "outputs": [
    {
     "data": {
      "text/html": [
       "<div>\n",
       "<style scoped>\n",
       "    .dataframe tbody tr th:only-of-type {\n",
       "        vertical-align: middle;\n",
       "    }\n",
       "\n",
       "    .dataframe tbody tr th {\n",
       "        vertical-align: top;\n",
       "    }\n",
       "\n",
       "    .dataframe thead th {\n",
       "        text-align: right;\n",
       "    }\n",
       "</style>\n",
       "<table border=\"1\" class=\"dataframe\">\n",
       "  <thead>\n",
       "    <tr style=\"text-align: right;\">\n",
       "      <th></th>\n",
       "      <th>child</th>\n",
       "      <th>parent</th>\n",
       "      <th>frequency</th>\n",
       "      <th>gp</th>\n",
       "      <th>par</th>\n",
       "      <th>chl</th>\n",
       "    </tr>\n",
       "  </thead>\n",
       "  <tbody>\n",
       "    <tr>\n",
       "      <th>0</th>\n",
       "      <td>59.5</td>\n",
       "      <td>62.5</td>\n",
       "      <td>0.50</td>\n",
       "      <td>fs</td>\n",
       "      <td>Father</td>\n",
       "      <td>Son</td>\n",
       "    </tr>\n",
       "    <tr>\n",
       "      <th>1</th>\n",
       "      <td>59.5</td>\n",
       "      <td>63.5</td>\n",
       "      <td>0.50</td>\n",
       "      <td>fs</td>\n",
       "      <td>Father</td>\n",
       "      <td>Son</td>\n",
       "    </tr>\n",
       "    <tr>\n",
       "      <th>2</th>\n",
       "      <td>59.5</td>\n",
       "      <td>64.5</td>\n",
       "      <td>1.00</td>\n",
       "      <td>fs</td>\n",
       "      <td>Father</td>\n",
       "      <td>Son</td>\n",
       "    </tr>\n",
       "    <tr>\n",
       "      <th>3</th>\n",
       "      <td>60.5</td>\n",
       "      <td>62.5</td>\n",
       "      <td>0.50</td>\n",
       "      <td>fs</td>\n",
       "      <td>Father</td>\n",
       "      <td>Son</td>\n",
       "    </tr>\n",
       "    <tr>\n",
       "      <th>4</th>\n",
       "      <td>60.5</td>\n",
       "      <td>66.5</td>\n",
       "      <td>1.00</td>\n",
       "      <td>fs</td>\n",
       "      <td>Father</td>\n",
       "      <td>Son</td>\n",
       "    </tr>\n",
       "    <tr>\n",
       "      <th>5</th>\n",
       "      <td>61.5</td>\n",
       "      <td>59.5</td>\n",
       "      <td>0.25</td>\n",
       "      <td>fs</td>\n",
       "      <td>Father</td>\n",
       "      <td>Son</td>\n",
       "    </tr>\n",
       "    <tr>\n",
       "      <th>6</th>\n",
       "      <td>61.5</td>\n",
       "      <td>60.5</td>\n",
       "      <td>0.25</td>\n",
       "      <td>fs</td>\n",
       "      <td>Father</td>\n",
       "      <td>Son</td>\n",
       "    </tr>\n",
       "    <tr>\n",
       "      <th>7</th>\n",
       "      <td>61.5</td>\n",
       "      <td>62.5</td>\n",
       "      <td>0.50</td>\n",
       "      <td>fs</td>\n",
       "      <td>Father</td>\n",
       "      <td>Son</td>\n",
       "    </tr>\n",
       "    <tr>\n",
       "      <th>8</th>\n",
       "      <td>61.5</td>\n",
       "      <td>63.5</td>\n",
       "      <td>1.00</td>\n",
       "      <td>fs</td>\n",
       "      <td>Father</td>\n",
       "      <td>Son</td>\n",
       "    </tr>\n",
       "    <tr>\n",
       "      <th>9</th>\n",
       "      <td>61.5</td>\n",
       "      <td>64.5</td>\n",
       "      <td>0.25</td>\n",
       "      <td>fs</td>\n",
       "      <td>Father</td>\n",
       "      <td>Son</td>\n",
       "    </tr>\n",
       "  </tbody>\n",
       "</table>\n",
       "</div>"
      ],
      "text/plain": [
       "   child  parent  frequency  gp     par  chl\n",
       "0   59.5    62.5       0.50  fs  Father  Son\n",
       "1   59.5    63.5       0.50  fs  Father  Son\n",
       "2   59.5    64.5       1.00  fs  Father  Son\n",
       "3   60.5    62.5       0.50  fs  Father  Son\n",
       "4   60.5    66.5       1.00  fs  Father  Son\n",
       "5   61.5    59.5       0.25  fs  Father  Son\n",
       "6   61.5    60.5       0.25  fs  Father  Son\n",
       "7   61.5    62.5       0.50  fs  Father  Son\n",
       "8   61.5    63.5       1.00  fs  Father  Son\n",
       "9   61.5    64.5       0.25  fs  Father  Son"
      ]
     },
     "execution_count": 83,
     "metadata": {},
     "output_type": "execute_result"
    }
   ],
   "source": [
    "pearson.head(10)"
   ]
  },
  {
   "cell_type": "code",
   "execution_count": 84,
   "metadata": {},
   "outputs": [
    {
     "data": {
      "text/plain": [
       "<matplotlib.collections.PathCollection at 0x2a1e1b741d0>"
      ]
     },
     "execution_count": 84,
     "metadata": {},
     "output_type": "execute_result"
    },
    {
     "data": {
      "image/png": "[encoded data removed]",
      "text/plain": [
       "<Figure size 1008x432 with 1 Axes>"
      ]
     },
     "metadata": {
      "needs_background": "light"
     },
     "output_type": "display_data"
    }
   ],
   "source": [
    "plt.scatter(\n",
    "    pearson['child'] + np.random.normal(scale=0.2, size=pearson.shape[0]), \n",
    "    pearson['parent'] + np.random.normal(scale=0.2, size=pearson.shape[0]))"
   ]
  },
  {
   "cell_type": "code",
   "execution_count": 91,
   "metadata": {},
   "outputs": [],
   "source": [
    "ms = pearson[pearson['gp']=='ms']\n",
    "md = pearson[pearson['gp']=='md']"
   ]
  },
  {
   "cell_type": "code",
   "execution_count": 96,
   "metadata": {},
   "outputs": [],
   "source": [
    "fs = pearson[pearson['gp']=='fs']\n",
    "fd = pearson[pearson['gp']=='fd']"
   ]
  },
  {
   "cell_type": "code",
   "execution_count": 97,
   "metadata": {},
   "outputs": [
    {
     "data": {
      "image/png": "[encoded data removed]",
      "text/plain": [
       "<Figure size 1008x432 with 1 Axes>"
      ]
     },
     "metadata": {
      "needs_background": "light"
     },
     "output_type": "display_data"
    }
   ],
   "source": [
    "# comparison between son and mother height\n",
    "plt.scatter(\n",
    "    ms['child'] + np.random.normal(scale=0.2, size=ms.shape[0]), \n",
    "    ms['parent'] + np.random.normal(scale=0.2, size=ms.shape[0]), c='r')\n",
    "\n",
    "# comparison between daughter and mother height\n",
    "plt.scatter(\n",
    "    md['child'] + np.random.normal(scale=0.2, size=md.shape[0]), \n",
    "    md['parent'] + np.random.normal(scale=0.2, size=md.shape[0]), c='b')\n",
    "plt.show()"
   ]
  },
  {
   "cell_type": "code",
   "execution_count": 98,
   "metadata": {},
   "outputs": [
    {
     "data": {
      "image/png": "[encoded data removed]",
      "text/plain": [
       "<Figure size 1008x432 with 1 Axes>"
      ]
     },
     "metadata": {
      "needs_background": "light"
     },
     "output_type": "display_data"
    }
   ],
   "source": [
    "plt.scatter(\n",
    "    fs['child'] + np.random.normal(scale=0.2, size=fs.shape[0]), \n",
    "    fs['parent'] + np.random.normal(scale=0.2, size=fs.shape[0]), c='r')\n",
    "plt.scatter(\n",
    "    fd['child'] + np.random.normal(scale=0.2, size=fd.shape[0]), \n",
    "    fd['parent'] + np.random.normal(scale=0.2, size=fd.shape[0]), c='b')\n",
    "plt.show()"
   ]
  },
  {
   "cell_type": "markdown",
   "metadata": {},
   "source": [
    "# Measure the correlation coefficient between these variables"
   ]
  },
  {
   "cell_type": "code",
   "execution_count": 93,
   "metadata": {},
   "outputs": [
    {
     "data": {
      "text/plain": [
       "(0.48491768425178605, 9.100362271635801e-12)"
      ]
     },
     "execution_count": 93,
     "metadata": {},
     "output_type": "execute_result"
    }
   ],
   "source": [
    "# between mother and son heights\n",
    "stats.pearsonr(ms['parent'], ms['child'])"
   ]
  },
  {
   "cell_type": "code",
   "execution_count": 95,
   "metadata": {},
   "outputs": [
    {
     "data": {
      "text/plain": [
       "(0.4674367713012403, 1.9747722235596415e-11)"
      ]
     },
     "execution_count": 95,
     "metadata": {},
     "output_type": "execute_result"
    }
   ],
   "source": [
    "# between mother and daughter heights\n",
    "stats.pearsonr(md['parent'], md['child'])"
   ]
  },
  {
   "cell_type": "code",
   "execution_count": 99,
   "metadata": {},
   "outputs": [
    {
     "data": {
      "text/plain": [
       "(0.5206723830914773, 7.954369816601005e-14)"
      ]
     },
     "execution_count": 99,
     "metadata": {},
     "output_type": "execute_result"
    }
   ],
   "source": [
    "# between father and son heights\n",
    "stats.pearsonr(fs['parent'], fs['child'])"
   ]
  },
  {
   "cell_type": "code",
   "execution_count": 100,
   "metadata": {},
   "outputs": [
    {
     "data": {
      "text/plain": [
       "(0.47205300652210364, 7.905672025206177e-13)"
      ]
     },
     "execution_count": 100,
     "metadata": {},
     "output_type": "execute_result"
    }
   ],
   "source": [
    "# between father and daughter heights\n",
    "stats.pearsonr(fd['parent'], fd['child'])"
   ]
  },
  {
   "cell_type": "markdown",
   "metadata": {},
   "source": [
    "We notice that we have a weak-moderate correlation (relationship) between mothers' heights and daughters'/sons' heights. That means that this weak correlation does not necessarily imply that the height of the children is genetically determined by the height of the mother. We notice the same thing for the correlation between fathers' and daughters' heights. \n",
    "The correlation between fathers' and sons' heights is a moderately strong one. But this hypothesis is not sufficient to say that the height of the boys is determined strictly by the height of their fathers. \n",
    "All of these correlations determine a positive relationship means that larger scores on one variable are associated with larger scores the other variable."
   ]
  },
  {
   "cell_type": "code",
   "execution_count": null,
   "metadata": {},
   "outputs": [],
   "source": []
  }
 ],
 "metadata": {
  "kernelspec": {
   "display_name": "Python 3",
   "language": "python",
   "name": "python3"
  },
  "language_info": {
   "codemirror_mode": {
    "name": "ipython",
    "version": 3
   },
   "file_extension": ".py",
   "mimetype": "text/x-python",
   "name": "python",
   "nbconvert_exporter": "python",
   "pygments_lexer": "ipython3",
   "version": "3.7.3"
  }
 },
 "nbformat": 4,
 "nbformat_minor": 2
}
