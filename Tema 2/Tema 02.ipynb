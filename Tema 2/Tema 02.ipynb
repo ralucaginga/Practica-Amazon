{
 "cells": [
  {
   "cell_type": "markdown",
   "metadata": {},
   "source": [
    "# Exercises\n",
    "1. Import numpy as np\n",
    "1. create 10 zeroes\n",
    "1. create a vector with values ranging from 10 to 100\n",
    "1. reverse it\n",
    "1. reshape it to a 3x30\n",
    "1. Create the vector with elems 1,2,9,0,0,1,4,0. Find indices of non-zero elems.\n",
    "1. Create a 3x3 identity matrix\n",
    "1. Create a random vector of size 50 with values uniformely distributed in (-1, 1). Find the average of these values.\n",
    "1. create a 5x5 matrix with 1,2,3,4 just below the 1st diag and 0 in rest.\n",
    "1. Create a 5x3 matrix and a 3x4 one. Multiply them. \n",
    "1. Using the previous matrix, extract a new one with just the integer part of the values. Find at least 4 methods of doing this.\n",
    "1. Create a random vector of size 25. Sort it.\n",
    "1. Create a random 7x2 matrix representing 7 2D points. Convert them to polar coordinates.\n",
    "1. Generate a 10x10 matrix. Generate a single random number. Find the number in the matrix closest to it."
   ]
  },
  {
   "cell_type": "markdown",
   "metadata": {},
   "source": [
    "## 1) Importing numpy as np"
   ]
  },
  {
   "cell_type": "code",
   "execution_count": 2,
   "metadata": {},
   "outputs": [],
   "source": [
    "import numpy as np"
   ]
  },
  {
   "cell_type": "markdown",
   "metadata": {},
   "source": [
    "## 2) Creating 10 zeroes"
   ]
  },
  {
   "cell_type": "code",
   "execution_count": 3,
   "metadata": {},
   "outputs": [
    {
     "data": {
      "text/plain": [
       "array([0., 0., 0., 0., 0., 0., 0., 0., 0., 0.])"
      ]
     },
     "execution_count": 3,
     "metadata": {},
     "output_type": "execute_result"
    }
   ],
   "source": [
    "zeros_np = np.zeros(10)\n",
    "zeros_np"
   ]
  },
  {
   "cell_type": "markdown",
   "metadata": {},
   "source": [
    "## 3) Creating a vector with values ranging from 10 to 100"
   ]
  },
  {
   "cell_type": "code",
   "execution_count": 4,
   "metadata": {},
   "outputs": [
    {
     "data": {
      "text/plain": [
       "array([10, 11, 12, 13, 14, 15, 16, 17, 18, 19, 20, 21, 22, 23, 24, 25, 26,\n",
       "       27, 28, 29, 30, 31, 32, 33, 34, 35, 36, 37, 38, 39, 40, 41, 42, 43,\n",
       "       44, 45, 46, 47, 48, 49, 50, 51, 52, 53, 54, 55, 56, 57, 58, 59, 60,\n",
       "       61, 62, 63, 64, 65, 66, 67, 68, 69, 70, 71, 72, 73, 74, 75, 76, 77,\n",
       "       78, 79, 80, 81, 82, 83, 84, 85, 86, 87, 88, 89, 90, 91, 92, 93, 94,\n",
       "       95, 96, 97, 98, 99])"
      ]
     },
     "execution_count": 4,
     "metadata": {},
     "output_type": "execute_result"
    }
   ],
   "source": [
    "vector_range = np.arange(10,100)\n",
    "vector_range"
   ]
  },
  {
   "cell_type": "markdown",
   "metadata": {},
   "source": [
    "## 4) Reversing the vector_range"
   ]
  },
  {
   "cell_type": "code",
   "execution_count": 5,
   "metadata": {},
   "outputs": [
    {
     "name": "stdout",
     "output_type": "stream",
     "text": [
      "[99 98 97 96 95 94 93 92 91 90 89 88 87 86 85 84 83 82 81 80 79 78 77 76\n",
      " 75 74 73 72 71 70 69 68 67 66 65 64 63 62 61 60 59 58 57 56 55 54 53 52\n",
      " 51 50 49 48 47 46 45 44 43 42 41 40 39 38 37 36 35 34 33 32 31 30 29 28\n",
      " 27 26 25 24 23 22 21 20 19 18 17 16 15 14 13 12 11 10]\n"
     ]
    }
   ],
   "source": [
    "vector_range_rev = vector_range[::-1]\n",
    "print(vector_range_rev)"
   ]
  },
  {
   "cell_type": "markdown",
   "metadata": {},
   "source": [
    "## 5) Reshape the vector to a 3x30"
   ]
  },
  {
   "cell_type": "code",
   "execution_count": 6,
   "metadata": {},
   "outputs": [
    {
     "name": "stdout",
     "output_type": "stream",
     "text": [
      "[[10 11 12 13 14 15 16 17 18 19 20 21 22 23 24 25 26 27 28 29 30 31 32 33\n",
      "  34 35 36 37 38 39]\n",
      " [40 41 42 43 44 45 46 47 48 49 50 51 52 53 54 55 56 57 58 59 60 61 62 63\n",
      "  64 65 66 67 68 69]\n",
      " [70 71 72 73 74 75 76 77 78 79 80 81 82 83 84 85 86 87 88 89 90 91 92 93\n",
      "  94 95 96 97 98 99]]\n"
     ]
    }
   ],
   "source": [
    "vector_range_reshaped = vector_range.reshape(3,30)\n",
    "print(vector_range_reshaped)"
   ]
  },
  {
   "cell_type": "markdown",
   "metadata": {},
   "source": [
    "## 6) Create a vector with elems 1,2,9,0,0,1,4,0. Find indices of non-zero elems."
   ]
  },
  {
   "cell_type": "code",
   "execution_count": 7,
   "metadata": {},
   "outputs": [
    {
     "name": "stdout",
     "output_type": "stream",
     "text": [
      "[1 2 9 0 0 1 4 0]\n"
     ]
    }
   ],
   "source": [
    "vector_with_some_given_elems = np.array([1,2,9,0,0,1,4,0])\n",
    "print(vector_with_some_given_elems)"
   ]
  },
  {
   "cell_type": "code",
   "execution_count": 8,
   "metadata": {},
   "outputs": [
    {
     "name": "stdout",
     "output_type": "stream",
     "text": [
      "Method 1: [0 1 2 5 6]\n",
      "Method 2: [0 1 2 5 6]\n"
     ]
    }
   ],
   "source": [
    "# Method 1 - using the nonzero method\n",
    "indices_of_nonzero = np.nonzero(vector_with_some_given_elems)\n",
    "print(\"Method 1:\", indices_of_nonzero[0])\n",
    "\n",
    "#Method 2 - using np.where\n",
    "indices_of_nonzero1 = np.where(vector_with_some_given_elems != 0)[0]\n",
    "print(\"Method 2:\", indices_of_nonzero1)"
   ]
  },
  {
   "cell_type": "markdown",
   "metadata": {},
   "source": [
    "## 7) Create a 3x3 identity matrix"
   ]
  },
  {
   "cell_type": "code",
   "execution_count": 18,
   "metadata": {},
   "outputs": [
    {
     "name": "stdout",
     "output_type": "stream",
     "text": [
      "[[1 0 0]\n",
      " [0 1 0]\n",
      " [0 0 1]]\n"
     ]
    }
   ],
   "source": [
    "identity_matrix = np.identity(3,dtype=int)\n",
    "print(identity_matrix)"
   ]
  },
  {
   "cell_type": "markdown",
   "metadata": {},
   "source": [
    "## 8) Create a random vector of size 50 with values uniformely distributed in (-1, 1). Find the average of these values."
   ]
  },
  {
   "cell_type": "code",
   "execution_count": 10,
   "metadata": {},
   "outputs": [
    {
     "name": "stdout",
     "output_type": "stream",
     "text": [
      "[-0.85559127  0.25673642  0.7019634  -0.79287864  0.54454608 -0.32572515\n",
      "  0.17189831  0.10290701  0.99100905  0.86447892  0.30766115 -0.19594786\n",
      " -0.95457935 -0.89179646 -0.43844792  0.34947235  0.93506975  0.63535359\n",
      " -0.59074073  0.02757618  0.93006124  0.46947609 -0.44122819  0.31592072\n",
      " -0.63609591  0.08484671 -0.47701604 -0.50693937  0.70745364  0.12628548\n",
      "  0.13009406  0.99990968 -0.74462489  0.55501986  0.78853991  0.16386976\n",
      " -0.90111941  0.08688024 -0.95286314 -0.41250421  0.56923989  0.14532184\n",
      "  0.39770206 -0.60189727 -0.13792542 -0.89123302 -0.39696947 -0.77805299\n",
      "  0.44981437  0.14967817]\n"
     ]
    }
   ],
   "source": [
    "random_vector = np.random.uniform(-1,1,50)\n",
    "print(random_vector)"
   ]
  },
  {
   "cell_type": "code",
   "execution_count": 11,
   "metadata": {},
   "outputs": [
    {
     "name": "stdout",
     "output_type": "stream",
     "text": [
      "0.0006921846665756393\n"
     ]
    }
   ],
   "source": [
    "avg_rand_vector = np.average(random_vector)\n",
    "print(avg_rand_vector)"
   ]
  },
  {
   "cell_type": "markdown",
   "metadata": {},
   "source": [
    "## 9) Create a 5x5 matrix with 1,2,3,4 just below the 1st diag and 0 in rest."
   ]
  },
  {
   "cell_type": "code",
   "execution_count": 203,
   "metadata": {},
   "outputs": [
    {
     "name": "stdout",
     "output_type": "stream",
     "text": [
      "[[0 0 0 0 0]\n",
      " [1 0 0 0 0]\n",
      " [0 2 0 0 0]\n",
      " [0 0 3 0 0]\n",
      " [0 0 0 4 0]]\n"
     ]
    }
   ],
   "source": [
    "diag5_matrix = np.diag([1,2,3,4], -1)\n",
    "print(diag5_matrix)"
   ]
  },
  {
   "cell_type": "markdown",
   "metadata": {},
   "source": [
    "## 10) Create a 5x3 matrix and a 3x4 one. Multiply them."
   ]
  },
  {
   "cell_type": "code",
   "execution_count": 204,
   "metadata": {},
   "outputs": [
    {
     "name": "stdout",
     "output_type": "stream",
     "text": [
      "[[  3.          -4.5          1.5          8.        ]\n",
      " [ 15.         -17.66666667   5.33333333  33.66666667]\n",
      " [  4.8         -0.4        -10.45         5.85      ]\n",
      " [ -1.5         10.5         -6.         -14.5       ]\n",
      " [  4.5         -2.5          0.           6.5       ]]\n"
     ]
    }
   ],
   "source": [
    "matrix_5x3 = np.array([[1/2,1,3/2],[4/3,5,6],[7,8/5,9/4],[-1,-1/2,-3],[0,1.5,1]])\n",
    "matrix_3x4 = np.array([[0,1,-2,-1],[3,1,-2,1],[0,-4,3,5]])\n",
    "\n",
    "matrix_multiplication = np.dot(matrix_5x3,matrix_3x4)\n",
    "print(matrix_multiplication)"
   ]
  },
  {
   "cell_type": "markdown",
   "metadata": {},
   "source": [
    "## 11) Using the previous matrix, extract a new one with just the integer part of the values. Find at least 4 methods of doing this."
   ]
  },
  {
   "cell_type": "code",
   "execution_count": 205,
   "metadata": {},
   "outputs": [
    {
     "name": "stdout",
     "output_type": "stream",
     "text": [
      "[[  3.  -5.   1.   8.]\n",
      " [ 15. -18.   5.  33.]\n",
      " [  4.  -1. -11.   5.]\n",
      " [ -2.  10.  -6. -15.]\n",
      " [  4.  -3.   0.   6.]]\n"
     ]
    }
   ],
   "source": [
    "# Method 1 - using the floor function\n",
    "integer_matrix1 = np.floor(matrix_multiplication)\n",
    "print(integer_matrix1)"
   ]
  },
  {
   "cell_type": "code",
   "execution_count": 206,
   "metadata": {},
   "outputs": [
    {
     "name": "stdout",
     "output_type": "stream",
     "text": [
      "[[  3.  -5.   1.   8.]\n",
      " [ 15. -18.   5.  33.]\n",
      " [  4.  -1. -11.   5.]\n",
      " [ -2.  10.  -6. -15.]\n",
      " [  4.  -3.   0.   6.]]\n"
     ]
    }
   ],
   "source": [
    "# Method 2 - using np.divmod\n",
    "integer_matrix2 = np.divmod(matrix_multiplication,1)\n",
    "print(integer_matrix2[0])"
   ]
  },
  {
   "cell_type": "code",
   "execution_count": 207,
   "metadata": {},
   "outputs": [
    {
     "name": "stdout",
     "output_type": "stream",
     "text": [
      "[[  3  -5   1   8]\n",
      " [ 15 -18   5  33]\n",
      " [  4  -1 -11   5]\n",
      " [ -2  10  -6 -15]\n",
      " [  4  -3   0   6]]\n"
     ]
    }
   ],
   "source": [
    "# Method 3 - using a defined function for integer part\n",
    "\n",
    "def floornp(n):\n",
    "    if (int(n)) == n or n>=0:\n",
    "        return (int(n))\n",
    "    else:\n",
    "        return (int(n)-1)\n",
    "\n",
    "matrix_to_1d = matrix_multiplication.flatten()\n",
    "floornumpy = np.vectorize(floornp)\n",
    "print((floornumpy(matrix_to_1d)).reshape(5,4))"
   ]
  },
  {
   "cell_type": "code",
   "execution_count": 208,
   "metadata": {},
   "outputs": [
    {
     "name": "stdout",
     "output_type": "stream",
     "text": [
      "[[  3.  -5.   1.   8.]\n",
      " [ 15. -18.   5.  33.]\n",
      " [  4.  -1. -11.   5.]\n",
      " [ -2.  10.  -6. -15.]\n",
      " [  4.  -3.   0.   6.]]\n"
     ]
    }
   ],
   "source": [
    "# Method 4 - iterating through the numpy array\n",
    "copy_matrix_mult = np.copy(matrix_multiplication)  # created a copy of our matrix_multiplication for later use\n",
    "\n",
    "# iterating numpy array\n",
    "\n",
    "for cell in np.nditer(copy_matrix_mult, op_flags=['readwrite']):\n",
    "    cell[...] = math.floor(cell) # modifying the copy_matrix_mult with integer part\n",
    "print(copy_matrix_mult)"
   ]
  },
  {
   "cell_type": "code",
   "execution_count": 209,
   "metadata": {},
   "outputs": [
    {
     "name": "stdout",
     "output_type": "stream",
     "text": [
      "[[  3.  -5.   1.   8.]\n",
      " [ 15. -18.   5.  33.]\n",
      " [  4.  -1. -11.   5.]\n",
      " [ -2.  10.  -6. -15.]\n",
      " [  4.  -3.   0.   6.]]\n"
     ]
    }
   ],
   "source": [
    "# Method 5 - using // sign\n",
    "\n",
    "integer_matrix3 = np.copy(matrix_multiplication//1)\n",
    "print(integer_matrix3)"
   ]
  },
  {
   "cell_type": "code",
   "execution_count": 210,
   "metadata": {},
   "outputs": [
    {
     "name": "stdout",
     "output_type": "stream",
     "text": [
      "[[  3.  -4.   1.   8.]\n",
      " [ 15. -17.   5.  33.]\n",
      " [  4.  -0. -10.   5.]\n",
      " [ -1.  10.  -6. -14.]\n",
      " [  4.  -2.   0.   6.]]\n"
     ]
    }
   ],
   "source": [
    "# Method 6 - using the modf function (returns the superior integer part) \n",
    "# !!not safe for use (doesn't show the proper values for negative numbers)\n",
    "\n",
    "integer_matrix4 = np.modf(matrix_multiplication)\n",
    "print(integer_matrix4[1])"
   ]
  },
  {
   "cell_type": "markdown",
   "metadata": {},
   "source": [
    "## 12) Create a random vector of size 25. Sort it."
   ]
  },
  {
   "cell_type": "code",
   "execution_count": 223,
   "metadata": {},
   "outputs": [
    {
     "name": "stdout",
     "output_type": "stream",
     "text": [
      "Random vector is:\n",
      " [0.34841777 0.81249331 0.9118431  0.51036312 0.61243858 0.88977319\n",
      " 0.10564089 0.74870065 0.93124128 0.37302024 0.02150965 0.01865564\n",
      " 0.7178137  0.75699629 0.29841455 0.17397033 0.55005027 0.60483459\n",
      " 0.82866543 0.27227747 0.37788538 0.88851396 0.75314612 0.90650383\n",
      " 0.60107606]\n",
      "Sorted vector is:\n",
      " [0.01865564 0.02150965 0.10564089 0.17397033 0.27227747 0.29841455\n",
      " 0.34841777 0.37302024 0.37788538 0.51036312 0.55005027 0.60107606\n",
      " 0.60483459 0.61243858 0.7178137  0.74870065 0.75314612 0.75699629\n",
      " 0.81249331 0.82866543 0.88851396 0.88977319 0.90650383 0.9118431\n",
      " 0.93124128]\n"
     ]
    }
   ],
   "source": [
    "# creating the random vector\n",
    "rand_vector_25 = np.random.random(25)\n",
    "print(\"Random vector is:\\n\",rand_vector_25)\n",
    "\n",
    "# sorting the vector using np.sort\n",
    "print(\"Sorted vector is:\\n\",np.sort(rand_vector_25))"
   ]
  },
  {
   "cell_type": "markdown",
   "metadata": {},
   "source": [
    "## 13) Create a random 7x2 matrix representing 7 2D points. Convert them to polar coordinates."
   ]
  },
  {
   "cell_type": "code",
   "execution_count": 261,
   "metadata": {},
   "outputs": [
    {
     "name": "stdout",
     "output_type": "stream",
     "text": [
      "Generated matrix is: \n",
      " [[7 4]\n",
      " [8 4]\n",
      " [1 5]\n",
      " [5 6]\n",
      " [7 9]\n",
      " [5 6]\n",
      " [2 6]]\n",
      "\n",
      "\n",
      "Cartesian coordinates for point no.1 is [7, 4]\n",
      "Cartesian coordinates for point no.2 is [8, 4]\n",
      "Cartesian coordinates for point no.3 is [1, 5]\n",
      "Cartesian coordinates for point no.4 is [5, 6]\n",
      "Cartesian coordinates for point no.5 is [7, 9]\n",
      "Cartesian coordinates for point no.6 is [5, 6]\n",
      "Cartesian coordinates for point no.7 is [2, 6]\n",
      "\n",
      "\n",
      "Polar coordinates for point no.1 is [8.06225774829855, 0.5191461142465229]\n",
      "Polar coordinates for point no.2 is [8.94427190999916, 0.4636476090008061]\n",
      "Polar coordinates for point no.3 is [5.0990195135927845, 1.373400766945016]\n",
      "Polar coordinates for point no.4 is [7.810249675906654, 0.8760580505981934]\n",
      "Polar coordinates for point no.5 is [11.40175425099138, 0.9097531579442097]\n",
      "Polar coordinates for point no.6 is [7.810249675906654, 0.8760580505981934]\n",
      "Polar coordinates for point no.7 is [6.324555320336759, 1.2490457723982544]\n"
     ]
    }
   ],
   "source": [
    "points_7x2 = np.random.randint(1,10,size=(7,2))\n",
    "\n",
    "print(\"Generated matrix is: \\n\",points_7x2)\n",
    "x = points_7x2[:,0]\n",
    "y = points_7x2[:,1]\n",
    "\n",
    "print('\\n')\n",
    "\n",
    "cartesian_coordinates = []\n",
    "for i in range(len(x)):\n",
    "    cartesian_coordinates = [x[i],y[i]]\n",
    "    print(\"Cartesian coordinates for point no.{} is {}\".format(i+1,cartesian_coordinates))\n",
    "\n",
    "r = np.sqrt(x**2+y**2)\n",
    "t = np.arctan2(y,x)\n",
    "\n",
    "print('\\n')\n",
    "\n",
    "polar_coordinates = []\n",
    "for i in range(len(r)):\n",
    "    polar_coordinates = [r[i],t[i]]\n",
    "    print(\"Polar coordinates for point no.{} is {}\".format(i+1,polar_coordinates))"
   ]
  },
  {
   "cell_type": "markdown",
   "metadata": {},
   "source": [
    "## 14) Generate a 10x10 matrix. Generate a single random number. Find the number in the matrix closest to it."
   ]
  },
  {
   "cell_type": "code",
   "execution_count": 346,
   "metadata": {},
   "outputs": [
    {
     "name": "stdout",
     "output_type": "stream",
     "text": [
      "Generated matrix: \n",
      " [[69 97  3 56 89 38 25 81 94 53]\n",
      " [65 60 42 68 10 11 94 10 70 77]\n",
      " [50 53 86 98 29 37 77 40 36 52]\n",
      " [19 93 76 63 68 88 82 53 57 63]\n",
      " [14 54  2 22 81 81  6 55 71 83]\n",
      " [56 26 60 55  6 56 79 53 33  1]\n",
      " [80 31 43 92  6  9 44 43 82 48]\n",
      " [56 39 79 93 96 28 39 17 80 53]\n",
      " [86 86 23 21 72 91  4 24 62 52]\n",
      " [ 7 33 80 93 74 79 91 85 99 54]]\n",
      "\n",
      "\n",
      "Generated single random number: 87 \n",
      "\n",
      "Distance matrix between the random generated number and the matrix elements:\n",
      " [[18 10 84 31  2 49 62  6  7 34]\n",
      " [22 27 45 19 77 76  7 77 17 10]\n",
      " [37 34  1 11 58 50 10 47 51 35]\n",
      " [68  6 11 24 19  1  5 34 30 24]\n",
      " [73 33 85 65  6  6 81 32 16  4]\n",
      " [31 61 27 32 81 31  8 34 54 86]\n",
      " [ 7 56 44  5 81 78 43 44  5 39]\n",
      " [31 48  8  6  9 59 48 70  7 34]\n",
      " [ 1  1 64 66 15  4 83 63 25 35]\n",
      " [80 54  7  6 13  8  4  2 12 33]] \n",
      "\n",
      "Minimum distance found in the matrix: 1 \n",
      "\n",
      "Indices of minimum difference in matrix:  (array([2, 3, 8, 8], dtype=int64), array([2, 5, 0, 1], dtype=int64)) \n",
      "\n",
      "The number in the matrix closest to 87 is 86\n"
     ]
    }
   ],
   "source": [
    "matrix_10x10 = np.random.randint(1,100,size=(10,10))\n",
    "print('Generated matrix: \\n',matrix_10x10)\n",
    "\n",
    "print('\\n')\n",
    "\n",
    "single_rand = np.random.randint(1,200)\n",
    "print('Generated single random number:',single_rand,'\\n')\n",
    "\n",
    "dist = np.abs(single_rand - matrix_10x10)\n",
    "print(\"Distance matrix between the random generated number and the matrix elements:\\n\",dist,'\\n')\n",
    "minDist = np.min(dist)\n",
    "print(\"Minimum distance found in the matrix:\",minDist,'\\n')\n",
    "            \n",
    "index = np.where(dist == minDist)\n",
    "print('Indices of minimum difference in matrix: ',index,'\\n')\n",
    "\n",
    "print('The number in the matrix closest to {} is {}'.format(single_rand,matrix_10x10[index[0][0],index[1][0]]))\n"
   ]
  },
  {
   "cell_type": "code",
   "execution_count": null,
   "metadata": {},
   "outputs": [],
   "source": []
  }
 ],
 "metadata": {
  "kernelspec": {
   "display_name": "Python 3",
   "language": "python",
   "name": "python3"
  },
  "language_info": {
   "codemirror_mode": {
    "name": "ipython",
    "version": 3
   },
   "file_extension": ".py",
   "mimetype": "text/x-python",
   "name": "python",
   "nbconvert_exporter": "python",
   "pygments_lexer": "ipython3",
   "version": "3.7.3"
  }
 },
 "nbformat": 4,
 "nbformat_minor": 2
}
