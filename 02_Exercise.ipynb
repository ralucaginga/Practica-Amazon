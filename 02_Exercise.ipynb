{
 "cells": [
  {
   "cell_type": "markdown",
   "metadata": {},
   "source": [
    "For the double list of numbers in numbers.txt\n",
    "1. Sum the numbers on each line.\n",
    "1. Sum all the numbers.\n",
    "1. Concatenate them all into a single list.\n",
    "1. Count how many of them are larger than 30.1.\n",
    "1. For each natural number threshold from 1 to 100 show how many numbers are smaller than it."
   ]
  },
  {
   "cell_type": "markdown",
   "metadata": {},
   "source": [
    "# Reading the numbers.txt file"
   ]
  },
  {
   "cell_type": "code",
   "execution_count": 1,
   "metadata": {},
   "outputs": [
    {
     "name": "stdout",
     "output_type": "stream",
     "text": [
      "[[10.0, 15.0, 20.0, 30.0], [20.0, 25.0, 50.0, 80.0], [50.0, 54.0, 55.0, 70.0], [30.0, 35.0, 60.0, 13.0], [40.0, 45.0, 70.0, 30.0], [60.0, 66.0, 12.0, 17.0]]\n"
     ]
    }
   ],
   "source": [
    "f = open('numbers.txt','r')\n",
    "\n",
    "\n",
    "def process_line(line):\n",
    "    return list(map(float,str.split(line[:-1], ',')))\n",
    "\n",
    "nums = [process_line(line) for line in f]\n",
    "print(nums)"
   ]
  },
  {
   "cell_type": "markdown",
   "metadata": {},
   "source": [
    "# 1) Sum the number on each line."
   ]
  },
  {
   "cell_type": "code",
   "execution_count": 2,
   "metadata": {},
   "outputs": [
    {
     "name": "stdout",
     "output_type": "stream",
     "text": [
      "Sum of the numbers from line no. 1  is  75.0\n",
      "Sum of the numbers from line no. 2  is  175.0\n",
      "Sum of the numbers from line no. 3  is  229.0\n",
      "Sum of the numbers from line no. 4  is  138.0\n",
      "Sum of the numbers from line no. 5  is  185.0\n",
      "Sum of the numbers from line no. 6  is  155.0\n"
     ]
    }
   ],
   "source": [
    "def sumLine(listP,index):\n",
    "    sumL = 0\n",
    "    for i in listP[index]:\n",
    "        sumL+=i\n",
    "    return sumL\n",
    "\n",
    "for i in range(len(nums)):\n",
    "    print('Sum of the numbers from line no.',i+1,' is ',sumLine(nums,i))\n"
   ]
  },
  {
   "cell_type": "markdown",
   "metadata": {},
   "source": [
    "# 2) Sum all the numbers."
   ]
  },
  {
   "cell_type": "code",
   "execution_count": 3,
   "metadata": {},
   "outputs": [
    {
     "name": "stdout",
     "output_type": "stream",
     "text": [
      "Sum of all numbers:  957.0\n"
     ]
    }
   ],
   "source": [
    "totalSum = 0\n",
    "for i in range(len(nums)):\n",
    "    totalSum+=sumLine(nums,i)\n",
    "    \n",
    "print('Sum of all numbers: ',totalSum)"
   ]
  },
  {
   "cell_type": "markdown",
   "metadata": {},
   "source": [
    "# 3) Concatenate the numbers into a single list"
   ]
  },
  {
   "cell_type": "code",
   "execution_count": 4,
   "metadata": {},
   "outputs": [
    {
     "name": "stdout",
     "output_type": "stream",
     "text": [
      "[10.0, 15.0, 20.0, 30.0, 20.0, 25.0, 50.0, 80.0, 50.0, 54.0, 55.0, 70.0, 30.0, 35.0, 60.0, 13.0, 40.0, 45.0, 70.0, 30.0, 60.0, 66.0, 12.0, 17.0]\n",
      "24\n"
     ]
    }
   ],
   "source": [
    "oneList = []\n",
    "for sublist in nums:\n",
    "    for items in sublist:\n",
    "        oneList.append(items)\n",
    "    \n",
    "print(oneList)\n",
    "print(len(oneList))"
   ]
  },
  {
   "cell_type": "markdown",
   "metadata": {},
   "source": [
    "# 4) Counting how many of these numbers are >30.1"
   ]
  },
  {
   "cell_type": "code",
   "execution_count": 5,
   "metadata": {},
   "outputs": [
    {
     "name": "stdout",
     "output_type": "stream",
     "text": [
      "13\n"
     ]
    }
   ],
   "source": [
    "larger_than_30 = 0\n",
    "for num in oneList:\n",
    "    if num > 30.1:\n",
    "        larger_than_30+=1\n",
    "\n",
    "print(larger_than_30)"
   ]
  },
  {
   "cell_type": "markdown",
   "metadata": {},
   "source": [
    "# 5) For each natural number threshold from 1 to 100, show how many numbers are smaller than it"
   ]
  },
  {
   "cell_type": "code",
   "execution_count": 6,
   "metadata": {},
   "outputs": [
    {
     "name": "stdout",
     "output_type": "stream",
     "text": [
      "{1: 0, 2: 0, 3: 0, 4: 0, 5: 0, 6: 0, 7: 0, 8: 0, 9: 0, 10: 0, 11: 1, 12: 1, 13: 2, 14: 3, 15: 3, 16: 4, 17: 4, 18: 5, 19: 5, 20: 5, 21: 7, 22: 7, 23: 7, 24: 7, 25: 7, 26: 8, 27: 8, 28: 8, 29: 8, 30: 8, 31: 11, 32: 11, 33: 11, 34: 11, 35: 11, 36: 12, 37: 12, 38: 12, 39: 12, 40: 12, 41: 13, 42: 13, 43: 13, 44: 13, 45: 13, 46: 14, 47: 14, 48: 14, 49: 14, 50: 14, 51: 16, 52: 16, 53: 16, 54: 16, 55: 17, 56: 18, 57: 18, 58: 18, 59: 18, 60: 18, 61: 20, 62: 20, 63: 20, 64: 20, 65: 20, 66: 20, 67: 21, 68: 21, 69: 21, 70: 21, 71: 23, 72: 23, 73: 23, 74: 23, 75: 23, 76: 23, 77: 23, 78: 23, 79: 23, 80: 23, 81: 24, 82: 24, 83: 24, 84: 24, 85: 24, 86: 24, 87: 24, 88: 24, 89: 24, 90: 24, 91: 24, 92: 24, 93: 24, 94: 24, 95: 24, 96: 24, 97: 24, 98: 24, 99: 24, 100: 24}\n"
     ]
    }
   ],
   "source": [
    "counting_smaller_than_list = {}\n",
    "for i in range(1,101):\n",
    "    for num in oneList:\n",
    "        if i not in counting_smaller_than_list:\n",
    "            counting_smaller_than_list[i]=0\n",
    "        if i in counting_smaller_than_list:\n",
    "            if i>num:\n",
    "                counting_smaller_than_list[i]+=1     \n",
    "            \n",
    "print(counting_smaller_than_list)"
   ]
  },
  {
   "cell_type": "code",
   "execution_count": null,
   "metadata": {},
   "outputs": [],
   "source": []
  }
 ],
 "metadata": {
  "celltoolbar": "Slideshow",
  "kernelspec": {
   "display_name": "Python 3",
   "language": "python",
   "name": "python3"
  },
  "language_info": {
   "codemirror_mode": {
    "name": "ipython",
    "version": 3
   },
   "file_extension": ".py",
   "mimetype": "text/x-python",
   "name": "python",
   "nbconvert_exporter": "python",
   "pygments_lexer": "ipython3",
   "version": "3.7.3"
  }
 },
 "nbformat": 4,
 "nbformat_minor": 2
}
